{
 "cells": [
  {
   "cell_type": "markdown",
   "id": "ac1bf8f9",
   "metadata": {},
   "source": [
    "### DevOps :                                        [Date :02/04/2023 ]"
   ]
  },
  {
   "attachments": {},
   "cell_type": "markdown",
   "id": "f2459ba2",
   "metadata": {},
   "source": [
    "#### Agenda & DevOps Modules\n",
    "- Important to software development process.\n",
    "- DevOps helps to make are software development process to more efficient or more excellent\n",
    "- **DevOps Module 1 (Overview)**: \n",
    "    - what it is ? why need to learn it ? How it will help as ?.\n",
    "- **DevOps Module 2 (Source code Management)** : \n",
    "    - Tool : Git and imp in s/w development process\n",
    "- **DevOps Module 3 (Microsyatems & Containerization )** : \n",
    "    - Tool : Docker, Help in s/w development\n",
    "- **DevOps Module 4 (Continuous Integration )** : \n",
    "    - Tool : Jenkins and  Connect all various part of s/w development process\n",
    "- **DevOps Module 5 (Continuous Monitoring )** : \n",
    "    - Tool :ELK, Prometheus & grafana and For monitoring specific things"
   ]
  },
  {
   "attachments": {},
   "cell_type": "markdown",
   "id": "0c70bd3f",
   "metadata": {},
   "source": [
    "#### Why DevOps ? \n",
    "- In past companies uses the waterfall model for s/w development process.\n",
    "- **waterfall model :** Requirement > Designing > Implementation > Testing > Deployment > Maintenance\n",
    "- It was very useful when the requremwnts were concrete and the developmet cycles were long.\n",
    "- Waterfall model generally take more time and now days it's very bad \n",
    "- There are new methodologies to solve the issuse of waterfall model like Aglie , Spiral model , Extreme programming etc. in commercial market. for "
   ]
  },
  {
   "cell_type": "code",
   "execution_count": null,
   "id": "4d084802",
   "metadata": {},
   "outputs": [],
   "source": []
  },
  {
   "cell_type": "code",
   "execution_count": null,
   "id": "e85e96a6",
   "metadata": {},
   "outputs": [],
   "source": []
  },
  {
   "cell_type": "code",
   "execution_count": null,
   "id": "08ed7a79",
   "metadata": {},
   "outputs": [],
   "source": []
  },
  {
   "cell_type": "code",
   "execution_count": null,
   "id": "40ed8236",
   "metadata": {},
   "outputs": [],
   "source": []
  },
  {
   "cell_type": "code",
   "execution_count": null,
   "id": "26a1c502",
   "metadata": {},
   "outputs": [],
   "source": []
  },
  {
   "cell_type": "code",
   "execution_count": null,
   "id": "41b1015d",
   "metadata": {},
   "outputs": [],
   "source": []
  },
  {
   "cell_type": "code",
   "execution_count": null,
   "id": "33719f98",
   "metadata": {},
   "outputs": [],
   "source": []
  },
  {
   "cell_type": "code",
   "execution_count": null,
   "id": "322229f8",
   "metadata": {},
   "outputs": [],
   "source": []
  },
  {
   "cell_type": "code",
   "execution_count": null,
   "id": "a253798c",
   "metadata": {},
   "outputs": [],
   "source": []
  },
  {
   "cell_type": "code",
   "execution_count": null,
   "id": "72d63f8f",
   "metadata": {},
   "outputs": [],
   "source": []
  },
  {
   "cell_type": "code",
   "execution_count": null,
   "id": "116ae1a2",
   "metadata": {},
   "outputs": [],
   "source": []
  },
  {
   "cell_type": "code",
   "execution_count": null,
   "id": "c3251352",
   "metadata": {},
   "outputs": [],
   "source": []
  },
  {
   "cell_type": "code",
   "execution_count": null,
   "id": "b578a175",
   "metadata": {},
   "outputs": [],
   "source": []
  },
  {
   "cell_type": "code",
   "execution_count": null,
   "id": "412a43cc",
   "metadata": {},
   "outputs": [],
   "source": []
  },
  {
   "cell_type": "code",
   "execution_count": null,
   "id": "6e3b42d4",
   "metadata": {},
   "outputs": [],
   "source": []
  },
  {
   "cell_type": "code",
   "execution_count": null,
   "id": "126e2287",
   "metadata": {},
   "outputs": [],
   "source": []
  },
  {
   "cell_type": "code",
   "execution_count": null,
   "id": "4f347085",
   "metadata": {},
   "outputs": [],
   "source": []
  },
  {
   "cell_type": "code",
   "execution_count": null,
   "id": "3954ec65",
   "metadata": {},
   "outputs": [],
   "source": []
  },
  {
   "cell_type": "code",
   "execution_count": null,
   "id": "e8e02cad",
   "metadata": {},
   "outputs": [],
   "source": []
  },
  {
   "cell_type": "code",
   "execution_count": null,
   "id": "c0583a87",
   "metadata": {},
   "outputs": [],
   "source": []
  },
  {
   "cell_type": "code",
   "execution_count": null,
   "id": "40e0f2e8",
   "metadata": {},
   "outputs": [],
   "source": []
  }
 ],
 "metadata": {
  "kernelspec": {
   "display_name": "Python 3 (ipykernel)",
   "language": "python",
   "name": "python3"
  },
  "language_info": {
   "codemirror_mode": {
    "name": "ipython",
    "version": 3
   },
   "file_extension": ".py",
   "mimetype": "text/x-python",
   "name": "python",
   "nbconvert_exporter": "python",
   "pygments_lexer": "ipython3",
   "version": "3.10.7"
  }
 },
 "nbformat": 4,
 "nbformat_minor": 5
}
