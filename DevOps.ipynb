{
 "cells": [
  {
   "cell_type": "markdown",
   "id": "ecdae59f",
   "metadata": {},
   "source": [
    "### DevOps :                                        [Date :02/04/2023 ]"
   ]
  },
  {
   "attachments": {},
   "cell_type": "markdown",
   "id": "a915c483",
   "metadata": {},
   "source": [
    "#### Agenda & DevOps Modules\n",
    "- Important to software development process.\n",
    "- DevOps helps to make are software development process to more efficient or more excellent\n",
    "- **DevOps Module 1 (Overview)**: \n",
    "    - what it is ? why need to learn it ? How it will help as ?.\n",
    "- **DevOps Module 2 (Source code Management)** : \n",
    "    - Tool : Git and imp in s/w development process\n",
    "- **DevOps Module 3 (Microsyatems & Containerization )** : \n",
    "    - Tool : Docker, Help in s/w development\n",
    "- **DevOps Module 4 (Continuous Integration )** : \n",
    "    - Tool : Jenkins and  Connect all various part of s/w development process\n",
    "- **DevOps Module 5 (Continuous Monitoring )** : \n",
    "    - Tool :ELK, Prometheus & grafana and For monitoring specific things"
   ]
  },
  {
   "attachments": {},
   "cell_type": "markdown",
   "id": "4b02b43e",
   "metadata": {},
   "source": [
    "#### Why DevOps ? \n",
    "- In past companies uses the waterfall model for s/w development process.\n",
    "- **waterfall model :** Requirement > Designing > Implementation > Testing > Deployment > Maintenance\n",
    "- It was very useful when the requremwnts were concrete and the developmet cycles were long.\n",
    "- Waterfall model generally take more time and now days it's very bad \n",
    "- There are new methodologies to solve the issuse of waterfall model like Aglie , Spiral model , Extreme programming etc. in commercial market. "
   ]
  },
  {
   "cell_type": "code",
   "execution_count": null,
   "id": "da6c6e10",
   "metadata": {},
   "outputs": [],
   "source": []
  },
  {
   "cell_type": "code",
   "execution_count": null,
   "id": "af86a805",
   "metadata": {},
   "outputs": [],
   "source": []
  },
  {
   "cell_type": "code",
   "execution_count": null,
   "id": "fb46351b",
   "metadata": {},
   "outputs": [],
   "source": []
  },
  {
   "cell_type": "code",
   "execution_count": null,
   "id": "f510235e",
   "metadata": {},
   "outputs": [],
   "source": []
  },
  {
   "cell_type": "code",
   "execution_count": null,
   "id": "0461b8e8",
   "metadata": {},
   "outputs": [],
   "source": []
  },
  {
   "cell_type": "code",
   "execution_count": null,
   "id": "0a793ad5",
   "metadata": {},
   "outputs": [],
   "source": []
  },
  {
   "cell_type": "code",
   "execution_count": null,
   "id": "6d07981a",
   "metadata": {},
   "outputs": [],
   "source": []
  },
  {
   "cell_type": "code",
   "execution_count": null,
   "id": "c5c4e2d5",
   "metadata": {},
   "outputs": [],
   "source": []
  },
  {
   "cell_type": "code",
   "execution_count": null,
   "id": "641564f4",
   "metadata": {},
   "outputs": [],
   "source": []
  },
  {
   "cell_type": "code",
   "execution_count": null,
   "id": "8f524d87",
   "metadata": {},
   "outputs": [],
   "source": []
  },
  {
   "cell_type": "code",
   "execution_count": null,
   "id": "c5077a9e",
   "metadata": {},
   "outputs": [],
   "source": []
  },
  {
   "cell_type": "code",
   "execution_count": null,
   "id": "05c52878",
   "metadata": {},
   "outputs": [],
   "source": []
  },
  {
   "cell_type": "code",
   "execution_count": null,
   "id": "68154742",
   "metadata": {},
   "outputs": [],
   "source": []
  },
  {
   "cell_type": "code",
   "execution_count": null,
   "id": "4e0cf590",
   "metadata": {},
   "outputs": [],
   "source": []
  },
  {
   "cell_type": "code",
   "execution_count": null,
   "id": "82953005",
   "metadata": {},
   "outputs": [],
   "source": []
  },
  {
   "cell_type": "code",
   "execution_count": null,
   "id": "f0089fbb",
   "metadata": {},
   "outputs": [],
   "source": []
  },
  {
   "cell_type": "code",
   "execution_count": null,
   "id": "2f1b27f4",
   "metadata": {},
   "outputs": [],
   "source": []
  },
  {
   "cell_type": "code",
   "execution_count": null,
   "id": "db4b02b9",
   "metadata": {},
   "outputs": [],
   "source": []
  },
  {
   "cell_type": "code",
   "execution_count": null,
   "id": "9ecdc7f7",
   "metadata": {},
   "outputs": [],
   "source": []
  },
  {
   "cell_type": "code",
   "execution_count": null,
   "id": "b52e8994",
   "metadata": {},
   "outputs": [],
   "source": []
  },
  {
   "cell_type": "code",
   "execution_count": null,
   "id": "da53c719",
   "metadata": {},
   "outputs": [],
   "source": []
  }
 ],
 "metadata": {
  "kernelspec": {
   "display_name": "Python 3 (ipykernel)",
   "language": "python",
   "name": "python3"
  },
  "language_info": {
   "codemirror_mode": {
    "name": "ipython",
    "version": 3
   },
   "file_extension": ".py",
   "mimetype": "text/x-python",
   "name": "python",
   "nbconvert_exporter": "python",
   "pygments_lexer": "ipython3",
   "version": "3.10.7"
  }
 },
 "nbformat": 4,
 "nbformat_minor": 5
}
